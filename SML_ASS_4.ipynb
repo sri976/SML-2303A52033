{
  "nbformat": 4,
  "nbformat_minor": 0,
  "metadata": {
    "colab": {
      "provenance": [],
      "authorship_tag": "ABX9TyO2gop9gBndCwPEIp50EqO2",
      "include_colab_link": true
    },
    "kernelspec": {
      "name": "python3",
      "display_name": "Python 3"
    },
    "language_info": {
      "name": "python"
    }
  },
  "cells": [
    {
      "cell_type": "markdown",
      "metadata": {
        "id": "view-in-github",
        "colab_type": "text"
      },
      "source": [
        "<a href=\"https://colab.research.google.com/github/sri976/SML-2303A52033/blob/main/SML_ASS_4.ipynb\" target=\"_parent\"><img src=\"https://colab.research.google.com/assets/colab-badge.svg\" alt=\"Open In Colab\"/></a>"
      ]
    },
    {
      "cell_type": "code",
      "execution_count": null,
      "metadata": {
        "colab": {
          "base_uri": "https://localhost:8080/"
        },
        "id": "Axp5edZ1zE9A",
        "outputId": "8b0e6e20-5250-495c-c062-075a9003fb6f"
      },
      "outputs": [
        {
          "output_type": "stream",
          "name": "stdout",
          "text": [
            "Mounted at /content/drive\n"
          ]
        }
      ],
      "source": [
        "from google.colab import drive\n",
        "drive.mount('/content/drive')"
      ]
    },
    {
      "cell_type": "code",
      "source": [
        "import pandas as pd\n",
        "\n",
        "import numpy as np\n",
        "\n",
        "import matplotlib.pyplot as plt\n",
        "\n",
        "import seaborn as sns\n",
        "\n",
        "from sklearn.model_selection import train_test_split\n",
        "\n",
        "from sklearn.linear_model import LogisticRegression\n",
        "from sklearn.metrics import accuracy_score\n",
        "\n",
        "data=pd.read_csv('/content/drive/MyDrive/archive.zip')\n",
        "\n",
        "#print(data)\n",
        "\n",
        "columns=['battery_power', 'clock_speed', 'mobile_wt', 'talk_time', 'price_range']\n",
        "\n",
        "data-data.loc[:,columns]\n",
        "\n",
        "data.head()\n",
        "\n",
        "print(data)\n",
        "\n",
        "#data2-pd.read_csv('/content/drive/MyDrive/archive.zip')\n",
        "\n",
        "#datal.head()"
      ],
      "metadata": {
        "colab": {
          "base_uri": "https://localhost:8080/"
        },
        "id": "-nlW1vui2LXs",
        "outputId": "8591c3e2-adc8-4dad-c396-47e07f2e5858"
      },
      "execution_count": null,
      "outputs": [
        {
          "output_type": "stream",
          "name": "stdout",
          "text": [
            "      battery_power  blue  clock_speed  dual_sim  fc  four_g  int_memory  \\\n",
            "0               842     0          2.2         0   1       0           7   \n",
            "1              1021     1          0.5         1   0       1          53   \n",
            "2               563     1          0.5         1   2       1          41   \n",
            "3               615     1          2.5         0   0       0          10   \n",
            "4              1821     1          1.2         0  13       1          44   \n",
            "...             ...   ...          ...       ...  ..     ...         ...   \n",
            "1995            794     1          0.5         1   0       1           2   \n",
            "1996           1965     1          2.6         1   0       0          39   \n",
            "1997           1911     0          0.9         1   1       1          36   \n",
            "1998           1512     0          0.9         0   4       1          46   \n",
            "1999            510     1          2.0         1   5       1          45   \n",
            "\n",
            "      m_dep  mobile_wt  n_cores  ...  px_height  px_width   ram  sc_h  sc_w  \\\n",
            "0       0.6        188        2  ...         20       756  2549     9     7   \n",
            "1       0.7        136        3  ...        905      1988  2631    17     3   \n",
            "2       0.9        145        5  ...       1263      1716  2603    11     2   \n",
            "3       0.8        131        6  ...       1216      1786  2769    16     8   \n",
            "4       0.6        141        2  ...       1208      1212  1411     8     2   \n",
            "...     ...        ...      ...  ...        ...       ...   ...   ...   ...   \n",
            "1995    0.8        106        6  ...       1222      1890   668    13     4   \n",
            "1996    0.2        187        4  ...        915      1965  2032    11    10   \n",
            "1997    0.7        108        8  ...        868      1632  3057     9     1   \n",
            "1998    0.1        145        5  ...        336       670   869    18    10   \n",
            "1999    0.9        168        6  ...        483       754  3919    19     4   \n",
            "\n",
            "      talk_time  three_g  touch_screen  wifi  price_range  \n",
            "0            19        0             0     1            1  \n",
            "1             7        1             1     0            2  \n",
            "2             9        1             1     0            2  \n",
            "3            11        1             0     0            2  \n",
            "4            15        1             1     0            1  \n",
            "...         ...      ...           ...   ...          ...  \n",
            "1995         19        1             1     0            0  \n",
            "1996         16        1             1     1            2  \n",
            "1997          5        1             1     0            3  \n",
            "1998         19        1             1     1            0  \n",
            "1999          2        1             1     1            3  \n",
            "\n",
            "[2000 rows x 21 columns]\n"
          ]
        }
      ]
    },
    {
      "cell_type": "code",
      "source": [
        "print(data)\n",
        "data.tail(-1)\n",
        "xa=np.max(data)\n",
        "print(xa)\n",
        "xb=np.min(data)\n",
        "\n",
        "print(xb)\n",
        "\n",
        "for i in data: data[i]=(data[i]-xb)/(xa-xb)\n",
        "print(data)"
      ],
      "metadata": {
        "colab": {
          "base_uri": "https://localhost:8080/"
        },
        "id": "histt4yJ2r2E",
        "outputId": "7ce2db9a-46b1-478c-aa6c-8fe0fe614738"
      },
      "execution_count": null,
      "outputs": [
        {
          "output_type": "stream",
          "name": "stdout",
          "text": [
            "      battery_power  blue  clock_speed  dual_sim  fc  four_g  int_memory  \\\n",
            "0               842     0          2.2         0   1       0           7   \n",
            "1              1021     1          0.5         1   0       1          53   \n",
            "2               563     1          0.5         1   2       1          41   \n",
            "3               615     1          2.5         0   0       0          10   \n",
            "4              1821     1          1.2         0  13       1          44   \n",
            "...             ...   ...          ...       ...  ..     ...         ...   \n",
            "1995            794     1          0.5         1   0       1           2   \n",
            "1996           1965     1          2.6         1   0       0          39   \n",
            "1997           1911     0          0.9         1   1       1          36   \n",
            "1998           1512     0          0.9         0   4       1          46   \n",
            "1999            510     1          2.0         1   5       1          45   \n",
            "\n",
            "      m_dep  mobile_wt  n_cores  ...  px_height  px_width   ram  sc_h  sc_w  \\\n",
            "0       0.6        188        2  ...         20       756  2549     9     7   \n",
            "1       0.7        136        3  ...        905      1988  2631    17     3   \n",
            "2       0.9        145        5  ...       1263      1716  2603    11     2   \n",
            "3       0.8        131        6  ...       1216      1786  2769    16     8   \n",
            "4       0.6        141        2  ...       1208      1212  1411     8     2   \n",
            "...     ...        ...      ...  ...        ...       ...   ...   ...   ...   \n",
            "1995    0.8        106        6  ...       1222      1890   668    13     4   \n",
            "1996    0.2        187        4  ...        915      1965  2032    11    10   \n",
            "1997    0.7        108        8  ...        868      1632  3057     9     1   \n",
            "1998    0.1        145        5  ...        336       670   869    18    10   \n",
            "1999    0.9        168        6  ...        483       754  3919    19     4   \n",
            "\n",
            "      talk_time  three_g  touch_screen  wifi  price_range  \n",
            "0            19        0             0     1            1  \n",
            "1             7        1             1     0            2  \n",
            "2             9        1             1     0            2  \n",
            "3            11        1             0     0            2  \n",
            "4            15        1             1     0            1  \n",
            "...         ...      ...           ...   ...          ...  \n",
            "1995         19        1             1     0            0  \n",
            "1996         16        1             1     1            2  \n",
            "1997          5        1             1     0            3  \n",
            "1998         19        1             1     1            0  \n",
            "1999          2        1             1     1            3  \n",
            "\n",
            "[2000 rows x 21 columns]\n",
            "3998.0\n",
            "0.0\n",
            "      battery_power     blue  clock_speed  dual_sim        fc   four_g  \\\n",
            "0          0.210605  0.00000     0.000550   0.00000  0.000250  0.00000   \n",
            "1          0.255378  0.00025     0.000125   0.00025  0.000000  0.00025   \n",
            "2          0.140820  0.00025     0.000125   0.00025  0.000500  0.00025   \n",
            "3          0.153827  0.00025     0.000625   0.00000  0.000000  0.00000   \n",
            "4          0.455478  0.00025     0.000300   0.00000  0.003252  0.00025   \n",
            "...             ...      ...          ...       ...       ...      ...   \n",
            "1995       0.198599  0.00025     0.000125   0.00025  0.000000  0.00025   \n",
            "1996       0.491496  0.00025     0.000650   0.00025  0.000000  0.00000   \n",
            "1997       0.477989  0.00000     0.000225   0.00025  0.000250  0.00025   \n",
            "1998       0.378189  0.00000     0.000225   0.00000  0.001001  0.00025   \n",
            "1999       0.127564  0.00025     0.000500   0.00025  0.001251  0.00025   \n",
            "\n",
            "      int_memory     m_dep  mobile_wt   n_cores  ...  px_height  px_width  \\\n",
            "0       0.001751  0.000150   0.047024  0.000500  ...   0.005003  0.189095   \n",
            "1       0.013257  0.000175   0.034017  0.000750  ...   0.226363  0.497249   \n",
            "2       0.010255  0.000225   0.036268  0.001251  ...   0.315908  0.429215   \n",
            "3       0.002501  0.000200   0.032766  0.001501  ...   0.304152  0.446723   \n",
            "4       0.011006  0.000150   0.035268  0.000500  ...   0.302151  0.303152   \n",
            "...          ...       ...        ...       ...  ...        ...       ...   \n",
            "1995    0.000500  0.000200   0.026513  0.001501  ...   0.305653  0.472736   \n",
            "1996    0.009755  0.000050   0.046773  0.001001  ...   0.228864  0.491496   \n",
            "1997    0.009005  0.000175   0.027014  0.002001  ...   0.217109  0.408204   \n",
            "1998    0.011506  0.000025   0.036268  0.001251  ...   0.084042  0.167584   \n",
            "1999    0.011256  0.000225   0.042021  0.001501  ...   0.120810  0.188594   \n",
            "\n",
            "           ram      sc_h      sc_w  talk_time  three_g  touch_screen     wifi  \\\n",
            "0     0.637569  0.002251  0.001751   0.004752  0.00000       0.00000  0.00025   \n",
            "1     0.658079  0.004252  0.000750   0.001751  0.00025       0.00025  0.00000   \n",
            "2     0.651076  0.002751  0.000500   0.002251  0.00025       0.00025  0.00000   \n",
            "3     0.692596  0.004002  0.002001   0.002751  0.00025       0.00000  0.00000   \n",
            "4     0.352926  0.002001  0.000500   0.003752  0.00025       0.00025  0.00000   \n",
            "...        ...       ...       ...        ...      ...           ...      ...   \n",
            "1995  0.167084  0.003252  0.001001   0.004752  0.00025       0.00025  0.00000   \n",
            "1996  0.508254  0.002751  0.002501   0.004002  0.00025       0.00025  0.00025   \n",
            "1997  0.764632  0.002251  0.000250   0.001251  0.00025       0.00025  0.00000   \n",
            "1998  0.217359  0.004502  0.002501   0.004752  0.00025       0.00025  0.00025   \n",
            "1999  0.980240  0.004752  0.001001   0.000500  0.00025       0.00025  0.00025   \n",
            "\n",
            "      price_range  \n",
            "0         0.00025  \n",
            "1         0.00050  \n",
            "2         0.00050  \n",
            "3         0.00050  \n",
            "4         0.00025  \n",
            "...           ...  \n",
            "1995      0.00000  \n",
            "1996      0.00050  \n",
            "1997      0.00075  \n",
            "1998      0.00000  \n",
            "1999      0.00075  \n",
            "\n",
            "[2000 rows x 21 columns]\n"
          ]
        }
      ]
    },
    {
      "cell_type": "code",
      "source": [
        "features=['battery_power', 'clock_speed', 'mobile_wt', 'talk_time']\n",
        "\n",
        "\n",
        "\n",
        "x=data.loc[:, features]\n",
        "\n",
        "y=data.loc[:, 'price_range']\n",
        "\n",
        "print(x)\n",
        "\n",
        "print(y)\n"
      ],
      "metadata": {
        "colab": {
          "base_uri": "https://localhost:8080/"
        },
        "id": "HjXCjJXr24sC",
        "outputId": "dd1cb17b-87f1-4fb9-ddb2-63ab2975b2b1"
      },
      "execution_count": null,
      "outputs": [
        {
          "output_type": "stream",
          "name": "stdout",
          "text": [
            "      battery_power  clock_speed  mobile_wt  talk_time\n",
            "0          0.210605     0.000550   0.047024   0.004752\n",
            "1          0.255378     0.000125   0.034017   0.001751\n",
            "2          0.140820     0.000125   0.036268   0.002251\n",
            "3          0.153827     0.000625   0.032766   0.002751\n",
            "4          0.455478     0.000300   0.035268   0.003752\n",
            "...             ...          ...        ...        ...\n",
            "1995       0.198599     0.000125   0.026513   0.004752\n",
            "1996       0.491496     0.000650   0.046773   0.004002\n",
            "1997       0.477989     0.000225   0.027014   0.001251\n",
            "1998       0.378189     0.000225   0.036268   0.004752\n",
            "1999       0.127564     0.000500   0.042021   0.000500\n",
            "\n",
            "[2000 rows x 4 columns]\n",
            "0       0.00025\n",
            "1       0.00050\n",
            "2       0.00050\n",
            "3       0.00050\n",
            "4       0.00025\n",
            "         ...   \n",
            "1995    0.00000\n",
            "1996    0.00050\n",
            "1997    0.00075\n",
            "1998    0.00000\n",
            "1999    0.00075\n",
            "Name: price_range, Length: 2000, dtype: float64\n"
          ]
        }
      ]
    },
    {
      "cell_type": "code",
      "source": [
        "x_train,x_test,y_train,y_test=train_test_split(x,y,test_size=0.2,random_state=0)\n",
        "\n",
        "print(x_train)\n",
        "\n",
        "print(y_train)\n",
        "\n",
        "print(x_test)\n",
        "\n",
        "print(y_test)"
      ],
      "metadata": {
        "colab": {
          "base_uri": "https://localhost:8080/"
        },
        "id": "ij2yHr9g3J6x",
        "outputId": "7d653470-1659-47c1-e731-9cf40f19a040"
      },
      "execution_count": null,
      "outputs": [
        {
          "output_type": "stream",
          "name": "stdout",
          "text": [
            "      battery_power  clock_speed  mobile_wt  talk_time\n",
            "582        0.308154     0.000725   0.042271   0.004002\n",
            "159        0.460230     0.000125   0.035518   0.002501\n",
            "1827       0.423212     0.000525   0.026513   0.001751\n",
            "318        0.127064     0.000200   0.023512   0.001751\n",
            "708        0.244372     0.000700   0.041271   0.002501\n",
            "...             ...          ...        ...        ...\n",
            "835        0.306153     0.000400   0.039270   0.003252\n",
            "1216       0.289645     0.000175   0.030765   0.003752\n",
            "1653       0.297649     0.000500   0.023262   0.002251\n",
            "559        0.297899     0.000600   0.042271   0.002001\n",
            "684        0.176588     0.000125   0.027014   0.001001\n",
            "\n",
            "[1600 rows x 4 columns]\n",
            "582     0.00000\n",
            "159     0.00025\n",
            "1827    0.00075\n",
            "318     0.00000\n",
            "708     0.00075\n",
            "         ...   \n",
            "835     0.00075\n",
            "1216    0.00025\n",
            "1653    0.00075\n",
            "559     0.00000\n",
            "684     0.00025\n",
            "Name: price_range, Length: 1600, dtype: float64\n",
            "      battery_power  clock_speed  mobile_wt  talk_time\n",
            "405        0.363682     0.000125   0.020760   0.001251\n",
            "1190       0.273137     0.000125   0.041771   0.002751\n",
            "1132       0.381191     0.000450   0.043522   0.003252\n",
            "731        0.451976     0.000525   0.031266   0.003252\n",
            "1754       0.271636     0.000425   0.027764   0.004252\n",
            "...             ...          ...        ...        ...\n",
            "638        0.238869     0.000125   0.035768   0.002251\n",
            "360        0.202351     0.000200   0.022761   0.000750\n",
            "1810       0.148574     0.000650   0.049025   0.004252\n",
            "1743       0.418459     0.000400   0.045523   0.005003\n",
            "563        0.322661     0.000125   0.035768   0.003752\n",
            "\n",
            "[400 rows x 4 columns]\n",
            "405     0.00075\n",
            "1190    0.00000\n",
            "1132    0.00050\n",
            "731     0.00050\n",
            "1754    0.00050\n",
            "         ...   \n",
            "638     0.00025\n",
            "360     0.00025\n",
            "1810    0.00000\n",
            "1743    0.00050\n",
            "563     0.00025\n",
            "Name: price_range, Length: 400, dtype: float64\n"
          ]
        }
      ]
    },
    {
      "cell_type": "code",
      "source": [
        "size_x=x.size\n",
        "\n",
        "size_y=y.size\n",
        "\n",
        "print(size_x)\n",
        "\n",
        "print(size_y)\n",
        "\n",
        "print(data.size)\n",
        "\n",
        "print('The shape of the data is ',data.shape)\n",
        "\n",
        "print('The X shape of the data is ',x.shape)\n",
        "\n",
        "print('The type of the data is ',type(x))\n",
        "\n",
        "bool_series = pd.isnull(data[\"battery_power\"])\n",
        "missing_values_count = bool_series.sum()\n",
        "\n",
        "print(\"Count of missing values in the 'Team' column:\", missing_values_count)\n",
        "\n",
        "print(bool_series)"
      ],
      "metadata": {
        "colab": {
          "base_uri": "https://localhost:8080/"
        },
        "id": "tHIg-93h3f_A",
        "outputId": "015c2863-e107-4004-f5be-f0761ec4d76a"
      },
      "execution_count": null,
      "outputs": [
        {
          "output_type": "stream",
          "name": "stdout",
          "text": [
            "8000\n",
            "2000\n",
            "42000\n",
            "The shape of the data is  (2000, 21)\n",
            "The X shape of the data is  (2000, 4)\n",
            "The type of the data is  <class 'pandas.core.frame.DataFrame'>\n",
            "Count of missing values in the 'Team' column: 0\n",
            "0       False\n",
            "1       False\n",
            "2       False\n",
            "3       False\n",
            "4       False\n",
            "        ...  \n",
            "1995    False\n",
            "1996    False\n",
            "1997    False\n",
            "1998    False\n",
            "1999    False\n",
            "Name: battery_power, Length: 2000, dtype: bool\n"
          ]
        }
      ]
    }
  ]
}