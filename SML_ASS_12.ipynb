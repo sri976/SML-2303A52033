{
  "nbformat": 4,
  "nbformat_minor": 0,
  "metadata": {
    "colab": {
      "provenance": [],
      "mount_file_id": "1Pp9qHinBLcvhQ6pQibv8HsAr8FoM7VRX",
      "authorship_tag": "ABX9TyOSFruchuvsqAaxWKSLKvTM",
      "include_colab_link": true
    },
    "kernelspec": {
      "name": "python3",
      "display_name": "Python 3"
    },
    "language_info": {
      "name": "python"
    }
  },
  "cells": [
    {
      "cell_type": "markdown",
      "metadata": {
        "id": "view-in-github",
        "colab_type": "text"
      },
      "source": [
        "<a href=\"https://colab.research.google.com/github/sri976/SML-2303A52033/blob/main/SML_ASS_12.ipynb\" target=\"_parent\"><img src=\"https://colab.research.google.com/assets/colab-badge.svg\" alt=\"Open In Colab\"/></a>"
      ]
    },
    {
      "cell_type": "code",
      "execution_count": 1,
      "metadata": {
        "colab": {
          "base_uri": "https://localhost:8080/"
        },
        "id": "xRkXv5Y0e4_D",
        "outputId": "afaa9170-d000-4b63-bc57-a19a0ba37987"
      },
      "outputs": [
        {
          "output_type": "stream",
          "name": "stdout",
          "text": [
            "Mounted at /content/drive\n"
          ]
        }
      ],
      "source": [
        "from google.colab import drive\n",
        "drive.mount('/content/drive')"
      ]
    },
    {
      "cell_type": "code",
      "source": [
        "import pandas as pd\n",
        "\n",
        "# Load the dataset\n",
        "file_path = '/content/drive/MyDrive/archive (1).zip'\n",
        "data = pd.read_csv(file_path)\n",
        "\n",
        "# Display the first few rows to understand the structure of the data\n",
        "data.head(), data.info()"
      ],
      "metadata": {
        "colab": {
          "base_uri": "https://localhost:8080/"
        },
        "id": "p4l_UDoCfjUl",
        "outputId": "52d25b99-a917-49bc-8979-39e82a7b7b29"
      },
      "execution_count": 2,
      "outputs": [
        {
          "output_type": "stream",
          "name": "stdout",
          "text": [
            "<class 'pandas.core.frame.DataFrame'>\n",
            "RangeIndex: 334 entries, 0 to 333\n",
            "Data columns (total 15 columns):\n",
            " #   Column              Non-Null Count  Dtype  \n",
            "---  ------              --------------  -----  \n",
            " 0   Age                 334 non-null    int64  \n",
            " 1   Gender              334 non-null    object \n",
            " 2   Protein1            334 non-null    float64\n",
            " 3   Protein2            334 non-null    float64\n",
            " 4   Protein3            334 non-null    float64\n",
            " 5   Protein4            334 non-null    float64\n",
            " 6   Tumour_Stage        334 non-null    object \n",
            " 7   Histology           334 non-null    object \n",
            " 8   ER status           334 non-null    object \n",
            " 9   PR status           334 non-null    object \n",
            " 10  HER2 status         334 non-null    object \n",
            " 11  Surgery_type        334 non-null    object \n",
            " 12  Date_of_Surgery     334 non-null    object \n",
            " 13  Date_of_Last_Visit  317 non-null    object \n",
            " 14  Patient_Status      321 non-null    object \n",
            "dtypes: float64(4), int64(1), object(10)\n",
            "memory usage: 39.3+ KB\n"
          ]
        },
        {
          "output_type": "execute_result",
          "data": {
            "text/plain": [
              "(   Age  Gender  Protein1  Protein2  Protein3  Protein4 Tumour_Stage  \\\n",
              " 0   42  FEMALE   0.95256   2.15000  0.007972 -0.048340           II   \n",
              " 1   54  FEMALE   0.00000   1.38020 -0.498030 -0.507320           II   \n",
              " 2   63  FEMALE  -0.52303   1.76400 -0.370190  0.010815           II   \n",
              " 3   78  FEMALE  -0.87618   0.12943 -0.370380  0.132190            I   \n",
              " 4   42  FEMALE   0.22611   1.74910 -0.543970 -0.390210           II   \n",
              " \n",
              "                        Histology ER status PR status HER2 status Surgery_type  \\\n",
              " 0  Infiltrating Ductal Carcinoma  Positive  Positive    Negative        Other   \n",
              " 1  Infiltrating Ductal Carcinoma  Positive  Positive    Negative        Other   \n",
              " 2  Infiltrating Ductal Carcinoma  Positive  Positive    Negative   Lumpectomy   \n",
              " 3  Infiltrating Ductal Carcinoma  Positive  Positive    Negative        Other   \n",
              " 4  Infiltrating Ductal Carcinoma  Positive  Positive    Positive   Lumpectomy   \n",
              " \n",
              "   Date_of_Surgery Date_of_Last_Visit Patient_Status  \n",
              " 0       20-May-18          26-Aug-18          Alive  \n",
              " 1       26-Apr-18          25-Jan-19           Dead  \n",
              " 2       24-Aug-18          08-Apr-20          Alive  \n",
              " 3       16-Nov-18          28-Jul-20          Alive  \n",
              " 4       12-Dec-18          05-Jan-19          Alive  ,\n",
              " None)"
            ]
          },
          "metadata": {},
          "execution_count": 2
        }
      ]
    },
    {
      "cell_type": "code",
      "source": [
        "from sklearn.model_selection import train_test_split\n",
        "from sklearn.preprocessing import LabelEncoder\n",
        "\n",
        "# Drop irrelevant columns\n",
        "columns_to_drop = [\"Date_of_Surgery\", \"Date_of_Last_Visit\"]\n",
        "data_cleaned = data.drop(columns=columns_to_drop)\n",
        "\n",
        "# Drop rows with missing target values (Patient_Status)\n",
        "data_cleaned = data_cleaned.dropna(subset=[\"Patient_Status\"])\n",
        "\n",
        "# Encode categorical variables\n",
        "categorical_columns = [\"Gender\", \"Tumour_Stage\", \"Histology\", \"ER status\", \"PR status\", \"HER2 status\", \"Surgery_type\", \"Patient_Status\"]\n",
        "label_encoders = {col: LabelEncoder() for col in categorical_columns}\n",
        "\n",
        "for col in categorical_columns:\n",
        "    data_cleaned[col] = label_encoders[col].fit_transform(data_cleaned[col])\n",
        "\n",
        "# Define features and target variable\n",
        "X = data_cleaned.drop(columns=[\"Patient_Status\"])\n",
        "y = data_cleaned[\"Patient_Status\"]\n",
        "\n",
        "# Split the dataset into training and testing sets\n",
        "X_train, X_test, y_train, y_test = train_test_split(X, y, test_size=0.2, random_state=42)\n",
        "\n",
        "# Check the processed dataset\n",
        "X_train.head(), y_train.head()"
      ],
      "metadata": {
        "colab": {
          "base_uri": "https://localhost:8080/"
        },
        "id": "tq42L5axf87-",
        "outputId": "7be894c0-9499-4366-aeb0-cb5510e7d756"
      },
      "execution_count": 3,
      "outputs": [
        {
          "output_type": "execute_result",
          "data": {
            "text/plain": [
              "(     Age  Gender  Protein1  Protein2  Protein3  Protein4  Tumour_Stage  \\\n",
              " 183   44       0  0.239170   0.45290  0.040158 -0.384790             1   \n",
              " 19    61       0 -1.487200   0.34903 -0.662420  0.185280             1   \n",
              " 26    65       0 -0.002021   0.81402 -0.331550 -0.062663             1   \n",
              " 179   79       0  0.479400   2.05590 -0.531360 -0.188480             0   \n",
              " 113   59       0  0.150500   1.26740  0.642650  0.261420             1   \n",
              " \n",
              "      Histology  ER status  PR status  HER2 status  Surgery_type  \n",
              " 183          0          0          0            0             3  \n",
              " 19           0          0          0            0             2  \n",
              " 26           1          0          0            0             2  \n",
              " 179          0          0          0            1             0  \n",
              " 113          0          0          0            0             3  ,\n",
              " 183    0\n",
              " 19     0\n",
              " 26     1\n",
              " 179    1\n",
              " 113    0\n",
              " Name: Patient_Status, dtype: int64)"
            ]
          },
          "metadata": {},
          "execution_count": 3
        }
      ]
    },
    {
      "cell_type": "code",
      "source": [
        "from sklearn.svm import SVC\n",
        "from sklearn.neighbors import KNeighborsClassifier\n",
        "from sklearn.linear_model import LogisticRegression\n",
        "from sklearn.metrics import accuracy_score\n",
        "\n",
        "# Initialize models\n",
        "svm_model = SVC(random_state=42)\n",
        "knn_model = KNeighborsClassifier()\n",
        "logreg_model = LogisticRegression(random_state=42, max_iter=1000)\n",
        "\n",
        "# Train models\n",
        "svm_model.fit(X_train, y_train)\n",
        "knn_model.fit(X_train, y_train)\n",
        "logreg_model.fit(X_train, y_train)\n",
        "\n",
        "# Predictions\n",
        "svm_predictions = svm_model.predict(X_test)\n",
        "knn_predictions = knn_model.predict(X_test)\n",
        "logreg_predictions = logreg_model.predict(X_test)\n",
        "\n",
        "# Accuracy scores\n",
        "svm_accuracy = accuracy_score(y_test, svm_predictions)\n",
        "knn_accuracy = accuracy_score(y_test, knn_predictions)\n",
        "logreg_accuracy = accuracy_score(y_test, logreg_predictions)\n",
        "\n",
        "svm_accuracy, knn_accuracy, logreg_accuracy"
      ],
      "metadata": {
        "colab": {
          "base_uri": "https://localhost:8080/"
        },
        "id": "j_3JNmocgGKg",
        "outputId": "b646bf42-f761-46d5-af4d-316377dc515c"
      },
      "execution_count": 4,
      "outputs": [
        {
          "output_type": "execute_result",
          "data": {
            "text/plain": [
              "(0.7692307692307693, 0.7538461538461538, 0.7692307692307693)"
            ]
          },
          "metadata": {},
          "execution_count": 4
        }
      ]
    },
    {
      "cell_type": "code",
      "source": [
        "import numpy as np\n",
        "import matplotlib.pyplot as plt\n",
        "\n",
        "# Function for bootstrapping\n",
        "def bootstrap_accuracy(model, X, y, n_iterations=100):\n",
        "    bootstrapped_accuracies = []\n",
        "    n_samples = len(y)\n",
        "    for _ in range(n_iterations):\n",
        "        # Generate a random sample with replacement\n",
        "        indices = np.random.choice(range(n_samples), size=n_samples, replace=True)\n",
        "        X_sample = X.iloc[indices]\n",
        "        y_sample = y.iloc[indices]\n",
        "\n",
        "        # Train and evaluate the model\n",
        "        model.fit(X_sample, y_sample)\n",
        "        predictions = model.predict(X_test)\n",
        "        acc = accuracy_score(y_test, predictions)\n",
        "        bootstrapped_accuracies.append(acc)\n",
        "\n",
        "    return bootstrapped_accuracies\n",
        "\n",
        "# Perform bootstrapping for each model\n",
        "svm_bootstrap = bootstrap_accuracy(svm_model, X_train, y_train)\n",
        "knn_bootstrap = bootstrap_accuracy(knn_model, X_train, y_train)\n",
        "logreg_bootstrap = bootstrap_accuracy(logreg_model, X_train, y_train)\n",
        "\n",
        "# Plot bootstrapping results\n",
        "plt.figure(figsize=(12, 6))\n",
        "plt.hist(svm_bootstrap, bins=20, alpha=0.6, label='SVM')\n",
        "plt.hist(knn_bootstrap, bins=20, alpha=0.6, label='KNN')\n",
        "plt.hist(logreg_bootstrap, bins=20, alpha=0.6, label='Logistic Regression')\n",
        "plt.xlabel('Accuracy')\n",
        "plt.ylabel('Frequency')\n",
        "plt.title('Bootstrapping Accuracy Distributions')\n",
        "plt.legend()\n",
        "plt.show()"
      ],
      "metadata": {
        "colab": {
          "base_uri": "https://localhost:8080/",
          "height": 584
        },
        "id": "DzsU2n8SgNmQ",
        "outputId": "30fa155b-7282-4556-f254-94d4e4394b8a"
      },
      "execution_count": 5,
      "outputs": [
        {
          "output_type": "display_data",
          "data": {
            "text/plain": [
              "<Figure size 1200x600 with 1 Axes>"
            ],
            "image/png": "[encoded data removed]"
          },
          "metadata": {}
        }
      ]
    },
    {
      "cell_type": "code",
      "source": [
        "# Load the newly uploaded dataset\n",
        "file_path_bootstrap = '/content/drive/MyDrive/archive (1).zip'\n",
        "data_bootstrap = pd.read_csv(file_path_bootstrap)\n",
        "\n",
        "# Display the first few rows and info of the dataset to understand its structure\n",
        "data_bootstrap.head(), data_bootstrap.info()"
      ],
      "metadata": {
        "colab": {
          "base_uri": "https://localhost:8080/"
        },
        "id": "RQZ5idXjgWpX",
        "outputId": "de9c46dd-3057-4736-db73-aca0f25b4984"
      },
      "execution_count": 6,
      "outputs": [
        {
          "output_type": "stream",
          "name": "stdout",
          "text": [
            "<class 'pandas.core.frame.DataFrame'>\n",
            "RangeIndex: 334 entries, 0 to 333\n",
            "Data columns (total 15 columns):\n",
            " #   Column              Non-Null Count  Dtype  \n",
            "---  ------              --------------  -----  \n",
            " 0   Age                 334 non-null    int64  \n",
            " 1   Gender              334 non-null    object \n",
            " 2   Protein1            334 non-null    float64\n",
            " 3   Protein2            334 non-null    float64\n",
            " 4   Protein3            334 non-null    float64\n",
            " 5   Protein4            334 non-null    float64\n",
            " 6   Tumour_Stage        334 non-null    object \n",
            " 7   Histology           334 non-null    object \n",
            " 8   ER status           334 non-null    object \n",
            " 9   PR status           334 non-null    object \n",
            " 10  HER2 status         334 non-null    object \n",
            " 11  Surgery_type        334 non-null    object \n",
            " 12  Date_of_Surgery     334 non-null    object \n",
            " 13  Date_of_Last_Visit  317 non-null    object \n",
            " 14  Patient_Status      321 non-null    object \n",
            "dtypes: float64(4), int64(1), object(10)\n",
            "memory usage: 39.3+ KB\n"
          ]
        },
        {
          "output_type": "execute_result",
          "data": {
            "text/plain": [
              "(   Age  Gender  Protein1  Protein2  Protein3  Protein4 Tumour_Stage  \\\n",
              " 0   42  FEMALE   0.95256   2.15000  0.007972 -0.048340           II   \n",
              " 1   54  FEMALE   0.00000   1.38020 -0.498030 -0.507320           II   \n",
              " 2   63  FEMALE  -0.52303   1.76400 -0.370190  0.010815           II   \n",
              " 3   78  FEMALE  -0.87618   0.12943 -0.370380  0.132190            I   \n",
              " 4   42  FEMALE   0.22611   1.74910 -0.543970 -0.390210           II   \n",
              " \n",
              "                        Histology ER status PR status HER2 status Surgery_type  \\\n",
              " 0  Infiltrating Ductal Carcinoma  Positive  Positive    Negative        Other   \n",
              " 1  Infiltrating Ductal Carcinoma  Positive  Positive    Negative        Other   \n",
              " 2  Infiltrating Ductal Carcinoma  Positive  Positive    Negative   Lumpectomy   \n",
              " 3  Infiltrating Ductal Carcinoma  Positive  Positive    Negative        Other   \n",
              " 4  Infiltrating Ductal Carcinoma  Positive  Positive    Positive   Lumpectomy   \n",
              " \n",
              "   Date_of_Surgery Date_of_Last_Visit Patient_Status  \n",
              " 0       20-May-18          26-Aug-18          Alive  \n",
              " 1       26-Apr-18          25-Jan-19           Dead  \n",
              " 2       24-Aug-18          08-Apr-20          Alive  \n",
              " 3       16-Nov-18          28-Jul-20          Alive  \n",
              " 4       12-Dec-18          05-Jan-19          Alive  ,\n",
              " None)"
            ]
          },
          "metadata": {},
          "execution_count": 6
        }
      ]
    }
  ]
}